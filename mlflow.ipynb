{
 "cells": [
  {
   "cell_type": "markdown",
   "id": "e113781a",
   "metadata": {},
   "source": [
    "Install notebook dependencies."
   ]
  },
  {
   "cell_type": "code",
   "execution_count": null,
   "id": "99667523",
   "metadata": {},
   "outputs": [],
   "source": [
    "import sys\n",
    "!{sys.executable} -m pip install ipynbname category_encoders matplotlib boto3 mlflow==1.28.0"
   ]
  },
  {
   "cell_type": "markdown",
   "id": "ac4d1b89",
   "metadata": {},
   "source": [
    "Import dependencies into our session."
   ]
  },
  {
   "cell_type": "code",
   "execution_count": null,
   "id": "01ce36a9-d5c2-482e-92d2-8049fb179fa0",
   "metadata": {},
   "outputs": [],
   "source": [
    "from pprint import pprint\n",
    "import numpy as np\n",
    "from sklearn.linear_model import LinearRegression\n",
    "from sklearn.preprocessing import PolynomialFeatures\n",
    "import mlflow\n",
    "import os\n",
    "import matplotlib.pyplot as plt\n",
    "import urllib3"
   ]
  },
  {
   "cell_type": "markdown",
   "id": "c6665225",
   "metadata": {},
   "source": [
    "Connect to the MLFlow server instance. We setup an EXPERIMENT_NAME and turn on the mlflow client auto logging feature."
   ]
  },
  {
   "cell_type": "code",
   "execution_count": null,
   "id": "65658499-c7df-42b0-98cd-1318b4e3c7fb",
   "metadata": {},
   "outputs": [],
   "source": [
    "HOST = \"http://mlflow:5500\"\n",
    "EXPERIMENT_NAME = \"TestModel\"\n",
    "\n",
    "# Connect to MLflow tracking server\n",
    "mlflow.set_tracking_uri(HOST)\n",
    "mlflow.set_experiment(EXPERIMENT_NAME)\n",
    "# enable autologging\n",
    "mlflow.sklearn.autolog(log_input_examples=True)"
   ]
  },
  {
   "cell_type": "markdown",
   "id": "017d31db",
   "metadata": {},
   "source": [
    "Define a helper method we will use to return the model data once it has run."
   ]
  },
  {
   "cell_type": "code",
   "execution_count": null,
   "id": "5433bb99-e74e-469c-a9bb-f07bde777eb6",
   "metadata": {},
   "outputs": [],
   "source": [
    "def fetch_logged_data(run_id):\n",
    "    m_client = mlflow.tracking.MlflowClient()\n",
    "    data = m_client.get_run(run_id).data\n",
    "    tags = {k: v for k, v in data.tags.items() if not k.startswith(\"mlflow.\")}\n",
    "    artifacts = [f.path for f in m_client.list_artifacts(run_id, \"model\")]\n",
    "    return data.params, data.metrics, tags, artifacts"
   ]
  },
  {
   "cell_type": "markdown",
   "id": "3b4f3249",
   "metadata": {},
   "source": [
    "Create some random data for our linear regression plot."
   ]
  },
  {
   "cell_type": "code",
   "execution_count": null,
   "id": "8f73a970-ef0f-449f-9370-05f2def1921e",
   "metadata": {},
   "outputs": [],
   "source": [
    "m = 100\n",
    "np.random.seed(365)\n",
    "x = 6 * np.random.rand(m, 1) - 3\n",
    "x = np.sort(x, axis=0)  # sort the values\n",
    "y = 0.5 * x**2 + x + 2 + np.random.randn(m, 1)"
   ]
  },
  {
   "cell_type": "markdown",
   "id": "4f33b8e2",
   "metadata": {},
   "source": [
    "Use the sklearn LinearRegression model to train and fit our random data sample. We also store the plotted figure of the results in MLFlow."
   ]
  },
  {
   "cell_type": "code",
   "execution_count": null,
   "id": "01387035-8e3f-428d-88a8-241f4a5905ae",
   "metadata": {},
   "outputs": [],
   "source": [
    "model = LinearRegression()\n",
    "with mlflow.start_run() as run:\n",
    "    model.fit(x, y)\n",
    "    fig, ax = plt.subplots()\n",
    "    ax.plot(x, y, \"b.\")\n",
    "    ax.plot(x, model.predict(x), \"r-\")\n",
    "    mlflow.log_figure(fig, \"plot.png\")"
   ]
  },
  {
   "cell_type": "markdown",
   "id": "9fb9e887",
   "metadata": {},
   "source": [
    "Print out the shape, metrics and parameters of our simple linear regression model."
   ]
  },
  {
   "cell_type": "code",
   "execution_count": null,
   "id": "d3887658-6baf-49b9-9fa8-822b7b2c400b",
   "metadata": {},
   "outputs": [],
   "source": [
    "print(x.shape)"
   ]
  },
  {
   "cell_type": "code",
   "execution_count": null,
   "id": "22a2f13b-bd43-477c-afbb-e03d6a30f383",
   "metadata": {},
   "outputs": [],
   "source": [
    "print(y.shape)"
   ]
  },
  {
   "cell_type": "code",
   "execution_count": null,
   "id": "c008fd2c-26ba-4404-85b0-0f1b89a61a01",
   "metadata": {},
   "outputs": [],
   "source": [
    "params, metrics, tags, artifacts = fetch_logged_data(run.info.run_id)"
   ]
  },
  {
   "cell_type": "code",
   "execution_count": null,
   "id": "73bcffcf-7908-44b8-ab8b-89e3657c1609",
   "metadata": {},
   "outputs": [],
   "source": [
    "pprint(params)"
   ]
  },
  {
   "cell_type": "code",
   "execution_count": null,
   "id": "0614a41a-fd0e-4608-9641-25ba0a379fa4",
   "metadata": {},
   "outputs": [],
   "source": [
    "pprint(metrics)"
   ]
  },
  {
   "cell_type": "code",
   "execution_count": null,
   "id": "ed214d06-b766-4a7d-8bd3-50aaca0e8a09",
   "metadata": {},
   "outputs": [],
   "source": [
    "pprint(tags)"
   ]
  },
  {
   "cell_type": "code",
   "execution_count": null,
   "id": "a24cbf3c-cd46-4c2c-b0e8-3f45240b171e",
   "metadata": {},
   "outputs": [],
   "source": [
    "pprint(artifacts)"
   ]
  },
  {
   "cell_type": "markdown",
   "id": "33ebc1cf",
   "metadata": {},
   "source": [
    "Predict the Y output given a simple one dimension X input."
   ]
  },
  {
   "cell_type": "code",
   "execution_count": null,
   "id": "c7ee4737-bbcc-47ab-8ee3-09545996a5e4",
   "metadata": {},
   "outputs": [],
   "source": [
    "model.predict([[1.23]])"
   ]
  },
  {
   "cell_type": "code",
   "execution_count": null,
   "id": "e8873a06-3a46-4e30-97b7-455fdf15f59c",
   "metadata": {},
   "outputs": [],
   "source": []
  }
 ],
 "metadata": {
  "kernelspec": {
   "display_name": "Python 3.8.16",
   "language": "python",
   "name": "python3"
  },
  "language_info": {
   "codemirror_mode": {
    "name": "ipython",
    "version": 3
   },
   "file_extension": ".py",
   "mimetype": "text/x-python",
   "name": "python",
   "nbconvert_exporter": "python",
   "pygments_lexer": "ipython3",
   "version": "3.8.16"
  },
  "vscode": {
   "interpreter": {
    "hash": "5b3ded1ccb95c1d9bd405e7b823d9e85424cde40fbb5985eb47e999ef50e15b4"
   }
  }
 },
 "nbformat": 4,
 "nbformat_minor": 5
}
